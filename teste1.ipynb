{
 "cells": [
  {
   "cell_type": "code",
   "execution_count": 16,
   "metadata": {},
   "outputs": [],
   "source": [
    "import pandas as pd\n",
    "import numpy as np"
   ]
  },
  {
   "cell_type": "code",
   "execution_count": 29,
   "metadata": {},
   "outputs": [
    {
     "data": {
      "text/html": [
       "<div>\n",
       "<style scoped>\n",
       "    .dataframe tbody tr th:only-of-type {\n",
       "        vertical-align: middle;\n",
       "    }\n",
       "\n",
       "    .dataframe tbody tr th {\n",
       "        vertical-align: top;\n",
       "    }\n",
       "\n",
       "    .dataframe thead th {\n",
       "        text-align: right;\n",
       "    }\n",
       "</style>\n",
       "<table border=\"1\" class=\"dataframe\">\n",
       "  <thead>\n",
       "    <tr style=\"text-align: right;\">\n",
       "      <th></th>\n",
       "      <th>Nome</th>\n",
       "      <th>Sexo</th>\n",
       "      <th>Idade</th>\n",
       "      <th>Altura</th>\n",
       "      <th>Peso</th>\n",
       "    </tr>\n",
       "  </thead>\n",
       "  <tbody>\n",
       "    <tr>\n",
       "      <th>0</th>\n",
       "      <td>Ana Silva</td>\n",
       "      <td>F</td>\n",
       "      <td>25</td>\n",
       "      <td>1.65</td>\n",
       "      <td>58</td>\n",
       "    </tr>\n",
       "    <tr>\n",
       "      <th>1</th>\n",
       "      <td>Bruno Costa</td>\n",
       "      <td>M</td>\n",
       "      <td>30</td>\n",
       "      <td>1.75</td>\n",
       "      <td>72</td>\n",
       "    </tr>\n",
       "    <tr>\n",
       "      <th>2</th>\n",
       "      <td>Carla Souza</td>\n",
       "      <td>F</td>\n",
       "      <td>28</td>\n",
       "      <td>1.70</td>\n",
       "      <td>60</td>\n",
       "    </tr>\n",
       "    <tr>\n",
       "      <th>3</th>\n",
       "      <td>Daniel Lima</td>\n",
       "      <td>M</td>\n",
       "      <td>35</td>\n",
       "      <td>1.80</td>\n",
       "      <td>80</td>\n",
       "    </tr>\n",
       "    <tr>\n",
       "      <th>4</th>\n",
       "      <td>Eva Martins</td>\n",
       "      <td>F</td>\n",
       "      <td>22</td>\n",
       "      <td>1.60</td>\n",
       "      <td>55</td>\n",
       "    </tr>\n",
       "  </tbody>\n",
       "</table>\n",
       "</div>"
      ],
      "text/plain": [
       "          Nome Sexo  Idade  Altura  Peso\n",
       "0    Ana Silva    F     25    1.65    58\n",
       "1  Bruno Costa    M     30    1.75    72\n",
       "2  Carla Souza    F     28    1.70    60\n",
       "3  Daniel Lima    M     35    1.80    80\n",
       "4  Eva Martins    F     22    1.60    55"
      ]
     },
     "execution_count": 29,
     "metadata": {},
     "output_type": "execute_result"
    }
   ],
   "source": [
    "df = pd.read_excel('pessoas.xlsx')\n",
    "df.head(5)"
   ]
  },
  {
   "cell_type": "code",
   "execution_count": 18,
   "metadata": {},
   "outputs": [
    {
     "data": {
      "text/plain": [
       "0     5425\n",
       "1     2727\n",
       "2     8895\n",
       "3     8804\n",
       "4     2987\n",
       "5     4019\n",
       "6     2468\n",
       "7     8968\n",
       "8     1155\n",
       "9     3316\n",
       "10    6743\n",
       "11    1326\n",
       "12    8662\n",
       "13    9393\n",
       "14    6496\n",
       "15    9162\n",
       "16    5596\n",
       "17    3585\n",
       "18    9180\n",
       "19    4565\n",
       "20    5368\n",
       "21    8962\n",
       "22    3981\n",
       "23    9533\n",
       "24    5065\n",
       "25    1522\n",
       "26    1135\n",
       "27    5056\n",
       "28    8760\n",
       "29    5758\n",
       "30    1344\n",
       "31    7702\n",
       "32    4465\n",
       "33    1122\n",
       "34    8159\n",
       "35    8698\n",
       "36    2052\n",
       "37    8676\n",
       "38    3477\n",
       "39    1844\n",
       "40    8801\n",
       "41    3340\n",
       "42    9466\n",
       "43    3082\n",
       "44    4515\n",
       "45    3708\n",
       "46    5577\n",
       "47    8727\n",
       "48    6515\n",
       "49    9725\n",
       "50    4404\n",
       "51    4008\n",
       "Name: id, dtype: int32"
      ]
     },
     "execution_count": 18,
     "metadata": {},
     "output_type": "execute_result"
    }
   ],
   "source": [
    "np.random.seed(0)\n",
    "df['id'] = np.random.choice(range(1001, 10000), size=len(df), replace=False)\n",
    "df['id']"
   ]
  },
  {
   "cell_type": "code",
   "execution_count": 9,
   "metadata": {},
   "outputs": [
    {
     "data": {
      "text/plain": [
       "array(['Ana Silva', 'Bruno Costa', 'Carla Souza', 'Daniel Lima',\n",
       "       'Eva Martins', 'Filipe Reis', 'Giovana Melo', 'Hugo Almeida',\n",
       "       'Isabela Freitas', 'João Pedro', 'Karla Pires', 'Lucas Andrade',\n",
       "       'Mariana Rocha', 'Nando Oliveira', 'Olivia Santos',\n",
       "       'Pedro Almeida', 'Queila Ramos', 'Rafael Costa', 'Sabrina Lima',\n",
       "       'Thiago Silva', 'Úrsula Freitas', 'Vítor Pereira', 'Wendy Martins',\n",
       "       'Xavier Souza', 'Yasmin Carvalho', 'Zé Ferreira', 'Amanda Duarte',\n",
       "       'Bruno Martins', 'Clara Rocha', 'Diego Almeida', 'Eliane Costa',\n",
       "       'Fabio Silva', 'Gabriela Lima', 'Henrique Souza', 'Ingrid Costa',\n",
       "       'João Batista', 'Karine Silva', 'Luis Fernandes', 'Mariana Santos',\n",
       "       'Natália Freitas', 'Oscar Lima', 'Paula Martins', 'Quirino Alves',\n",
       "       'Rita Pires', 'Samuel Costa', 'Tatiane Lima', 'Ubiratan Silva',\n",
       "       'Vanessa Almeida', 'William Oliveira', 'Xuxa Campos',\n",
       "       'Ygor Ferreira', 'Zaira Silva'], dtype=object)"
      ]
     },
     "execution_count": 9,
     "metadata": {},
     "output_type": "execute_result"
    }
   ],
   "source": [
    "nomes = df['Nome'].values\n",
    "nomes"
   ]
  },
  {
   "cell_type": "code",
   "execution_count": 20,
   "metadata": {},
   "outputs": [
    {
     "data": {
      "text/plain": [
       "Series([], dtype: int64)"
      ]
     },
     "execution_count": 20,
     "metadata": {},
     "output_type": "execute_result"
    }
   ],
   "source": [
    "contagem_duplicatas = df.groupby('id').size()\n",
    "contagem_duplicatas[contagem_duplicatas > 1]"
   ]
  },
  {
   "cell_type": "code",
   "execution_count": 23,
   "metadata": {},
   "outputs": [
    {
     "data": {
      "text/plain": [
       "28.46153846153846"
      ]
     },
     "execution_count": 23,
     "metadata": {},
     "output_type": "execute_result"
    }
   ],
   "source": [
    "df['Idade'].mean()"
   ]
  },
  {
   "cell_type": "code",
   "execution_count": 24,
   "metadata": {},
   "outputs": [
    {
     "data": {
      "text/plain": [
       "28.0"
      ]
     },
     "execution_count": 24,
     "metadata": {},
     "output_type": "execute_result"
    }
   ],
   "source": [
    "df['Idade'].median()"
   ]
  },
  {
   "cell_type": "code",
   "execution_count": 28,
   "metadata": {},
   "outputs": [
    {
     "data": {
      "text/plain": [
       "array([['Ana Silva', 1.65, 58],\n",
       "       ['Bruno Costa', 1.75, 72],\n",
       "       ['Carla Souza', 1.7, 60],\n",
       "       ['Daniel Lima', 1.8, 80],\n",
       "       ['Eva Martins', 1.6, 55],\n",
       "       ['Filipe Reis', 1.78, 74],\n",
       "       ['Giovana Melo', 1.67, 63],\n",
       "       ['Hugo Almeida', 1.82, 85],\n",
       "       ['Isabela Freitas', 1.62, 57],\n",
       "       ['João Pedro', 1.76, 70],\n",
       "       ['Karla Pires', 1.68, 62],\n",
       "       ['Lucas Andrade', 1.79, 76],\n",
       "       ['Mariana Rocha', 1.64, 59],\n",
       "       ['Nando Oliveira', 1.77, 73],\n",
       "       ['Olivia Santos', 1.63, 61],\n",
       "       ['Pedro Almeida', 1.81, 78],\n",
       "       ['Queila Ramos', 1.71, 64],\n",
       "       ['Rafael Costa', 1.83, 82],\n",
       "       ['Sabrina Lima', 1.66, 60],\n",
       "       ['Thiago Silva', 1.74, 71],\n",
       "       ['Úrsula Freitas', 1.69, 57],\n",
       "       ['Vítor Pereira', 1.8, 77],\n",
       "       ['Wendy Martins', 1.61, 56],\n",
       "       ['Xavier Souza', 1.85, 88],\n",
       "       ['Yasmin Carvalho', 1.72, 65],\n",
       "       ['Zé Ferreira', 1.77, 70],\n",
       "       ['Amanda Duarte', 1.64, 58],\n",
       "       ['Bruno Martins', 1.75, 73],\n",
       "       ['Clara Rocha', 1.7, 62],\n",
       "       ['Diego Almeida', 1.82, 80],\n",
       "       ['Eliane Costa', 1.67, 61],\n",
       "       ['Fabio Silva', 1.78, 75],\n",
       "       ['Gabriela Lima', 1.65, 59],\n",
       "       ['Henrique Souza', 1.76, 72],\n",
       "       ['Ingrid Costa', 1.68, 63],\n",
       "       ['João Batista', 1.79, 79],\n",
       "       ['Karine Silva', 1.62, 56],\n",
       "       ['Luis Fernandes', 1.8, 76],\n",
       "       ['Mariana Santos', 1.67, 60],\n",
       "       ['Natália Freitas', 1.64, 58],\n",
       "       ['Oscar Lima', 1.77, 74],\n",
       "       ['Paula Martins', 1.69, 62],\n",
       "       ['Quirino Alves', 1.81, 81],\n",
       "       ['Rita Pires', 1.72, 63],\n",
       "       ['Samuel Costa', 1.75, 69],\n",
       "       ['Tatiane Lima', 1.68, 61],\n",
       "       ['Ubiratan Silva', 1.82, 78],\n",
       "       ['Vanessa Almeida', 1.63, 60],\n",
       "       ['William Oliveira', 1.79, 77],\n",
       "       ['Xuxa Campos', 1.6, 56],\n",
       "       ['Ygor Ferreira', 1.76, 74],\n",
       "       ['Zaira Silva', 1.65, 59]], dtype=object)"
      ]
     },
     "execution_count": 28,
     "metadata": {},
     "output_type": "execute_result"
    }
   ],
   "source": [
    "df[['Nome','Altura','Peso']].values"
   ]
  },
  {
   "cell_type": "code",
   "execution_count": null,
   "metadata": {},
   "outputs": [],
   "source": []
  }
 ],
 "metadata": {
  "kernelspec": {
   "display_name": "base",
   "language": "python",
   "name": "python3"
  },
  "language_info": {
   "codemirror_mode": {
    "name": "ipython",
    "version": 3
   },
   "file_extension": ".py",
   "mimetype": "text/x-python",
   "name": "python",
   "nbconvert_exporter": "python",
   "pygments_lexer": "ipython3",
   "version": "3.12.4"
  }
 },
 "nbformat": 4,
 "nbformat_minor": 2
}

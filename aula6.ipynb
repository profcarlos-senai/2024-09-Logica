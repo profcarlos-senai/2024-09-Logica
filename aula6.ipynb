{
 "cells": [
  {
   "cell_type": "code",
   "execution_count": 1,
   "metadata": {},
   "outputs": [
    {
     "name": "stdout",
     "output_type": "stream",
     "text": [
      "Valor digitado: 25\n"
     ]
    }
   ],
   "source": [
    "# testar ANDS e ORS\n",
    "numero = int(input(\"Digite um numero\"))\n",
    "print(\"Valor digitado:\",numero)"
   ]
  },
  {
   "cell_type": "code",
   "execution_count": 2,
   "metadata": {},
   "outputs": [
    {
     "name": "stdout",
     "output_type": "stream",
     "text": [
      "numero entre 20 e 30\n"
     ]
    }
   ],
   "source": [
    "# testar se o número está entre 20 e 30\n",
    "if numero > 20 and numero < 30:\n",
    "    print(\"numero entre 20 e 30\")"
   ]
  },
  {
   "cell_type": "code",
   "execution_count": 4,
   "metadata": {},
   "outputs": [],
   "source": [
    "# testa se esse número é par e positivo\n",
    "if (numero % 2 == 0) and (numero > 0):\n",
    "    print(\"é um numero par positivo\")"
   ]
  }
 ],
 "metadata": {
  "kernelspec": {
   "display_name": "base",
   "language": "python",
   "name": "python3"
  },
  "language_info": {
   "codemirror_mode": {
    "name": "ipython",
    "version": 3
   },
   "file_extension": ".py",
   "mimetype": "text/x-python",
   "name": "python",
   "nbconvert_exporter": "python",
   "pygments_lexer": "ipython3",
   "version": "3.12.4"
  }
 },
 "nbformat": 4,
 "nbformat_minor": 2
}

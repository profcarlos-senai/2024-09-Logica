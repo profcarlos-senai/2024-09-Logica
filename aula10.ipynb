{
 "cells": [
  {
   "cell_type": "code",
   "execution_count": 1,
   "metadata": {},
   "outputs": [
    {
     "name": "stdout",
     "output_type": "stream",
     "text": [
      "O terreno tem 400 m2\n"
     ]
    }
   ],
   "source": [
    "# você precisa calcular a área de um terreno retangular\n",
    "frente = int(input(\"quanto de frente:\"))\n",
    "fundo = int(input(\"quanto de fundo\"))\n",
    "area = frente * fundo\n",
    "print(f\"O terreno tem {area} m2\")"
   ]
  },
  {
   "cell_type": "code",
   "execution_count": null,
   "metadata": {},
   "outputs": [],
   "source": []
  }
 ],
 "metadata": {
  "kernelspec": {
   "display_name": "base",
   "language": "python",
   "name": "python3"
  },
  "language_info": {
   "codemirror_mode": {
    "name": "ipython",
    "version": 3
   },
   "file_extension": ".py",
   "mimetype": "text/x-python",
   "name": "python",
   "nbconvert_exporter": "python",
   "pygments_lexer": "ipython3",
   "version": "3.12.4"
  }
 },
 "nbformat": 4,
 "nbformat_minor": 2
}

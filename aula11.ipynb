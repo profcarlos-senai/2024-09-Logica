{
 "cells": [
  {
   "cell_type": "code",
   "execution_count": 44,
   "metadata": {},
   "outputs": [
    {
     "data": {
      "text/plain": [
       "['Julia', 'Mario', 'Ana', 'Juca', 'Carlos', 'Zuleika', 'Flávia']"
      ]
     },
     "execution_count": 44,
     "metadata": {},
     "output_type": "execute_result"
    }
   ],
   "source": [
    "# vamos primeiro criar um vetor de\n",
    "nomes = ['Julia','Mario','Ana','Juca','Carlos','Zuleika','Flávia']\n",
    "nomes"
   ]
  },
  {
   "cell_type": "code",
   "execution_count": 43,
   "metadata": {},
   "outputs": [
    {
     "name": "stdout",
     "output_type": "stream",
     "text": [
      "0 Zuleika\n",
      "1 Carlos\n",
      "2 Juca\n",
      "3 Ana\n",
      "4 Mario\n",
      "5 Julia\n",
      "6 Flávia\n"
     ]
    }
   ],
   "source": [
    "# agora vamos listar usando um contador\n",
    "for i in range(len(nomes)):\n",
    "    print(i,nomes[5-i])\n"
   ]
  },
  {
   "cell_type": "code",
   "execution_count": 45,
   "metadata": {},
   "outputs": [
    {
     "name": "stdout",
     "output_type": "stream",
     "text": [
      "5 Zuleika\n",
      "4 Carlos\n",
      "3 Juca\n",
      "2 Ana\n",
      "1 Mario\n",
      "0 Julia\n",
      "-1 Flávia\n"
     ]
    }
   ],
   "source": [
    "# tente imprimir de trás pra frente\n",
    "for i in range(len(nomes)):\n",
    "    n = 5 - i\n",
    "    print(n,nomes[n])"
   ]
  },
  {
   "cell_type": "code",
   "execution_count": 46,
   "metadata": {},
   "outputs": [
    {
     "data": {
      "text/plain": [
       "'Flávia'"
      ]
     },
     "execution_count": 46,
     "metadata": {},
     "output_type": "execute_result"
    }
   ],
   "source": [
    "nomes[-1]"
   ]
  },
  {
   "cell_type": "code",
   "execution_count": null,
   "metadata": {},
   "outputs": [],
   "source": []
  }
 ],
 "metadata": {
  "kernelspec": {
   "display_name": "base",
   "language": "python",
   "name": "python3"
  },
  "language_info": {
   "codemirror_mode": {
    "name": "ipython",
    "version": 3
   },
   "file_extension": ".py",
   "mimetype": "text/x-python",
   "name": "python",
   "nbconvert_exporter": "python",
   "pygments_lexer": "ipython3",
   "version": "3.12.4"
  }
 },
 "nbformat": 4,
 "nbformat_minor": 2
}

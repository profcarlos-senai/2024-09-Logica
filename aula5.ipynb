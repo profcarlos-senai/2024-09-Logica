{
 "cells": [
  {
   "cell_type": "markdown",
   "metadata": {},
   "source": [
    "Faça um programa que pergunte um número, imprima esse número \n",
    "e diga se é maior que 10, se é menor que 10 ou se é igual a 10\n",
    "\n",
    "### comparações:\n",
    "- x == y\n",
    "- x != y\n",
    "- x < y\n",
    "- x <= y\n",
    "- x > y\n",
    "- x >= y"
   ]
  },
  {
   "cell_type": "code",
   "execution_count": 11,
   "metadata": {},
   "outputs": [
    {
     "name": "stdout",
     "output_type": "stream",
     "text": [
      "Valor digitado: 7897897987897\n",
      "maior que dez\n"
     ]
    }
   ],
   "source": [
    "numero = int(input(\"Digite um numero\"))\n",
    "print(\"Valor digitado:\",numero)\n",
    "\n",
    "if numero < 10:\n",
    "    print(\"menor que dez\")\n",
    "if numero == 10:\n",
    "    print(\"igual a dez\")\n",
    "if numero > 10:\n",
    "    print(\"maior que dez\")"
   ]
  }
 ],
 "metadata": {
  "kernelspec": {
   "display_name": "base",
   "language": "python",
   "name": "python3"
  },
  "language_info": {
   "codemirror_mode": {
    "name": "ipython",
    "version": 3
   },
   "file_extension": ".py",
   "mimetype": "text/x-python",
   "name": "python",
   "nbconvert_exporter": "python",
   "pygments_lexer": "ipython3",
   "version": "3.12.4"
  }
 },
 "nbformat": 4,
 "nbformat_minor": 2
}

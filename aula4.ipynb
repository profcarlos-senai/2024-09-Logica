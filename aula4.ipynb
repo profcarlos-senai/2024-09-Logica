{
 "cells": [
  {
   "cell_type": "code",
   "execution_count": 2,
   "metadata": {},
   "outputs": [],
   "source": [
    "ingresso = 40"
   ]
  },
  {
   "cell_type": "code",
   "execution_count": 3,
   "metadata": {},
   "outputs": [],
   "source": [
    "# sub-rotina pra imprimir o ingresso\n",
    "def imprime_ingresso(tipo, valor):\n",
    "    print(f\"Você paga {tipo}. Valor: R$ {valor:.2f}\")"
   ]
  },
  {
   "cell_type": "code",
   "execution_count": 7,
   "metadata": {},
   "outputs": [
    {
     "name": "stdout",
     "output_type": "stream",
     "text": [
      "Voce tem 12anos\n",
      "Você paga meia. Valor: R$ 20.00\n"
     ]
    }
   ],
   "source": [
    "idade = int(input(\"Qual sua idade:\"))\n",
    "print(f\"Voce tem {idade}anos\")\n",
    "if idade< 18:\n",
    "    imprime_ingresso('meia', ingresso/2)\n",
    "else:\n",
    "    if idade> 65:\n",
    "        imprime_ingresso('meia', ingresso/2)\n",
    "\n",
    "    else: # paga inteira\n",
    "        imprime_ingresso('inteira', ingresso)\n"
   ]
  }
 ],
 "metadata": {
  "kernelspec": {
   "display_name": "base",
   "language": "python",
   "name": "python3"
  },
  "language_info": {
   "codemirror_mode": {
    "name": "ipython",
    "version": 3
   },
   "file_extension": ".py",
   "mimetype": "text/x-python",
   "name": "python",
   "nbconvert_exporter": "python",
   "pygments_lexer": "ipython3",
   "version": "3.12.4"
  }
 },
 "nbformat": 4,
 "nbformat_minor": 2
}

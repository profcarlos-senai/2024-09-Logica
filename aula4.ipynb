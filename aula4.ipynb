{
 "cells": [
  {
   "cell_type": "code",
   "execution_count": null,
   "metadata": {},
   "outputs": [],
   "source": [
    "# sub-rotina pra imprimir o ingresso\n",
    "def imprime_ingresso(tipo, valor):\n",
    "    print(f\"Você paga {tipo}. Valor: R$ {valor:.2f}\")"
   ]
  },
  {
   "cell_type": "code",
   "execution_count": null,
   "metadata": {},
   "outputs": [],
   "source": [
    "idade = int(input(\"Qual sua idade:\"))\n",
    "print(f\"Voce tem {idade}anos\")\n",
    "if idade< 18:\n",
    "    meia = ingresso/2\n",
    "    print(f\"Vocé paga meia. Valor R${meia:.2F}\")\n",
    "else:\n",
    "    if idade> 65:\n",
    "        meia = ingresso/2\n",
    "        print(f\"Voce paga meia. valor r${meia:.2f}\")\n",
    "\n",
    "    else: # paga inteira\n",
    "        print (f\"Paga inteira. Valor R${ingresso:.2f}\")\n"
   ]
  }
 ],
 "metadata": {
  "language_info": {
   "name": "python"
  }
 },
 "nbformat": 4,
 "nbformat_minor": 2
}

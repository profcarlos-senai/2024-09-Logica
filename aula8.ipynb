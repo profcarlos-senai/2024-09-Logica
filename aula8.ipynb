{
 "cells": [
  {
   "cell_type": "code",
   "execution_count": 1,
   "metadata": {},
   "outputs": [
    {
     "name": "stdout",
     "output_type": "stream",
     "text": [
      "1\n",
      "2\n",
      "3\n",
      "4\n",
      "5\n",
      "6\n",
      "7\n",
      "8\n",
      "9\n",
      "10\n"
     ]
    }
   ],
   "source": [
    "# # eu posso usar um WHILE pra contar:\n",
    "x = 1\n",
    "while x <= 10:\n",
    "    print(x)\n",
    "    x = x + 1"
   ]
  },
  {
   "cell_type": "code",
   "execution_count": 2,
   "metadata": {},
   "outputs": [
    {
     "name": "stdout",
     "output_type": "stream",
     "text": [
      "10\n",
      "9\n",
      "8\n",
      "7\n",
      "6\n",
      "5\n",
      "4\n",
      "3\n",
      "2\n",
      "1\n"
     ]
    }
   ],
   "source": [
    "# contar de 10 até 1 de trás pra frente\n",
    "x = 10\n",
    "while x >= 1:\n",
    "    print(x)\n",
    "    x = x - 1"
   ]
  },
  {
   "cell_type": "code",
   "execution_count": 9,
   "metadata": {},
   "outputs": [
    {
     "name": "stdout",
     "output_type": "stream",
     "text": [
      "i= 1 soma= 1\n",
      "i= 2 soma= 3\n",
      "i= 3 soma= 6\n",
      "i= 4 soma= 10\n",
      "i= 5 soma= 15\n",
      "i= 6 soma= 21\n",
      "i= 7 soma= 28\n",
      "i= 8 soma= 36\n",
      "i= 9 soma= 45\n",
      "i= 10 soma= 55\n",
      "soma= 55\n"
     ]
    }
   ],
   "source": [
    "# imprima a soma dos números de 1 a 10\n",
    "soma = 0\n",
    "i = 1\n",
    "while i<=10:\n",
    "    soma = soma + i\n",
    "    print('i=',i,'soma=',soma)\n",
    "    i = i + 1\n",
    "\n",
    "# aqui já acabou a repetição\n",
    "print(\"soma=\",soma)"
   ]
  },
  {
   "cell_type": "code",
   "execution_count": 10,
   "metadata": {},
   "outputs": [
    {
     "data": {
      "text/plain": [
       "'aaaa'"
      ]
     },
     "execution_count": 10,
     "metadata": {},
     "output_type": "execute_result"
    }
   ],
   "source": [
    "# imprimir pares de números de 1 a 100 \n",
    "# no formato 1 e 100, 2 e 99, 3 e 98, 4 e 97, etc.\n"
   ]
  },
  {
   "cell_type": "code",
   "execution_count": null,
   "metadata": {},
   "outputs": [],
   "source": []
  }
 ],
 "metadata": {
  "kernelspec": {
   "display_name": "base",
   "language": "python",
   "name": "python3"
  },
  "language_info": {
   "codemirror_mode": {
    "name": "ipython",
    "version": 3
   },
   "file_extension": ".py",
   "mimetype": "text/x-python",
   "name": "python",
   "nbconvert_exporter": "python",
   "pygments_lexer": "ipython3",
   "version": "3.12.4"
  }
 },
 "nbformat": 4,
 "nbformat_minor": 2
}

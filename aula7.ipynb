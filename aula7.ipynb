{
 "cells": [
  {
   "cell_type": "code",
   "execution_count": 1,
   "metadata": {},
   "outputs": [],
   "source": [
    "# listas\n",
    "dia_mes = [31,28,31,30,31,30,31,31,30,31,30,31]\n",
    "nome_mes = [\n",
    "    \"Janeiro\",\n",
    "    \"Fevereiro\",\n",
    "    \"Março\",\n",
    "    \"Abril\",\n",
    "    \"Maio\",\n",
    "    \"Junho\",\n",
    "    \"Julho\",\n",
    "    \"Agosto\",\n",
    "    \"Setembro\",\n",
    "    \"Outubro\",\n",
    "    \"Novembro\",\n",
    "    \"Dezembro\"\n",
    "]"
   ]
  },
  {
   "cell_type": "code",
   "execution_count": 10,
   "metadata": {},
   "outputs": [
    {
     "name": "stdout",
     "output_type": "stream",
     "text": [
      "O mes de Janeiro tem 31 dias\n",
      "O mes de Fevereiro tem 28 dias\n",
      "O mes de Março tem 31 dias\n",
      "O mes de Abril tem 30 dias\n",
      "O mes de Maio tem 31 dias\n",
      "O mes de Junho tem 30 dias\n",
      "O mes de Julho tem 31 dias\n",
      "O mes de Agosto tem 31 dias\n",
      "O mes de Setembro tem 30 dias\n",
      "O mes de Outubro tem 31 dias\n",
      "O mes de Novembro tem 30 dias\n",
      "O mes de Dezembro tem 31 dias\n"
     ]
    }
   ],
   "source": [
    "# um jeito de vasculhar vetores: contando\n",
    "i = 0;\n",
    "while i<12:\n",
    "    print('O mes de',nome_mes[i],'tem',dia_mes[i],'dias')\n",
    "    i = i + 1"
   ]
  },
  {
   "cell_type": "code",
   "execution_count": 15,
   "metadata": {},
   "outputs": [
    {
     "name": "stdout",
     "output_type": "stream",
     "text": [
      "1\n",
      "2\n",
      "3\n",
      "4\n",
      "5\n",
      "6\n",
      "7\n",
      "8\n",
      "9\n",
      "10\n"
     ]
    }
   ],
   "source": [
    "# eu posso usar um WHILE pra contar:\n",
    "x = 1\n",
    "while x <= 10:\n",
    "    print(x)\n",
    "    x = x + 1"
   ]
  },
  {
   "cell_type": "code",
   "execution_count": null,
   "metadata": {},
   "outputs": [],
   "source": [
    "resposta = 's'\n",
    "while resposta=='s':\n",
    "    print(\"era uma vez um gato xadrez.\")\n",
    "    resposta = input(\"Quer que eu conte outra vez?\")"
   ]
  }
 ],
 "metadata": {
  "kernelspec": {
   "display_name": "base",
   "language": "python",
   "name": "python3"
  },
  "language_info": {
   "codemirror_mode": {
    "name": "ipython",
    "version": 3
   },
   "file_extension": ".py",
   "mimetype": "text/x-python",
   "name": "python",
   "nbconvert_exporter": "python",
   "pygments_lexer": "ipython3",
   "version": "3.12.4"
  }
 },
 "nbformat": 4,
 "nbformat_minor": 2
}

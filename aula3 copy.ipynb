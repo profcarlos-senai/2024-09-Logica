{
 "cells": [
  {
   "cell_type": "code",
   "execution_count": 33,
   "metadata": {},
   "outputs": [
    {
     "name": "stdout",
     "output_type": "stream",
     "text": [
      "você comprou 501 trequinhos por R$ 0.01 cada um\n"
     ]
    }
   ],
   "source": [
    "quant = int(input(\"Quantos trequinhos:\"))\n",
    "preço = float(input(\"preço dos trequinhos:\"))\n",
    "\n",
    "print(\"você comprou\",quant,\"trequinhos por R$\",preço,\"cada um\")"
   ]
  },
  {
   "cell_type": "markdown",
   "metadata": {},
   "source": [
    "Agora vamos calcular o total"
   ]
  },
  {
   "cell_type": "code",
   "execution_count": 34,
   "metadata": {},
   "outputs": [
    {
     "name": "stdout",
     "output_type": "stream",
     "text": [
      "O total deu R$ 5.01\n"
     ]
    }
   ],
   "source": [
    "total = quant * preço\n",
    "print(\"O total deu R$\",total)"
   ]
  },
  {
   "cell_type": "markdown",
   "metadata": {},
   "source": [
    "Para compras acima de R$ 1000 ou mais de 500 unidades dar 10% de desconto\n",
    "(se comprar 501 trequinhos de R$ 0,01 ainda assim ganha desconto)"
   ]
  },
  {
   "cell_type": "code",
   "execution_count": 35,
   "metadata": {},
   "outputs": [
    {
     "name": "stdout",
     "output_type": "stream",
     "text": [
      "você ganhou R$ 0.50 de desconto\n",
      "O total com desconto é R$ 4.51\n"
     ]
    }
   ],
   "source": [
    "if (total >= 1000) or (quant > 500):\n",
    "    desconto = total * (10/100) # 10%\n",
    "    print(f\"você ganhou R$ {desconto:.2f} de desconto\")\n",
    "    # recalcula o total\n",
    "    total = total - desconto\n",
    "    print(f\"O total com desconto é R$ {total:.2f}\")\n",
    "else:\n",
    "    print(\"não ganha desconto\")"
   ]
  }
 ],
 "metadata": {
  "kernelspec": {
   "display_name": "base",
   "language": "python",
   "name": "python3"
  },
  "language_info": {
   "codemirror_mode": {
    "name": "ipython",
    "version": 3
   },
   "file_extension": ".py",
   "mimetype": "text/x-python",
   "name": "python",
   "nbconvert_exporter": "python",
   "pygments_lexer": "ipython3",
   "version": "3.12.4"
  }
 },
 "nbformat": 4,
 "nbformat_minor": 2
}

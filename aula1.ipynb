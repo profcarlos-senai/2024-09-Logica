{
 "cells": [
  {
   "cell_type": "code",
   "execution_count": null,
   "id": "52f6b909-c5c5-47aa-b30f-44bde07548b8",
   "metadata": {},
   "outputs": [],
   "source": [
    "nome = \"Carlos Augusto\"\n",
    "sobrenome = \""
   ]
  }
 ],
 "metadata": {
  "kernelspec": {
   "display_name": "Python 3 (ipykernel)",
   "language": "python",
   "name": "python3"
  },
  "language_info": {
   "codemirror_mode": {
    "name": "ipython",
    "version": 3
   },
   "file_extension": ".py",
   "mimetype": "text/x-python",
   "name": "python",
   "nbconvert_exporter": "python",
   "pygments_lexer": "ipython3",
   "version": "3.12.4"
  }
 },
 "nbformat": 4,
 "nbformat_minor": 5
}

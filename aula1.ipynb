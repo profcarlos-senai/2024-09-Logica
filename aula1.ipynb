{
 "cells": [
  {
   "cell_type": "markdown",
   "id": "3afb5fe9",
   "metadata": {},
   "source": [
    "# Aula 1"
   ]
  },
  {
   "cell_type": "code",
   "execution_count": 4,
   "id": "7e6516e4-93a0-4796-82a7-94c48a3d2681",
   "metadata": {},
   "outputs": [
    {
     "name": "stdout",
     "output_type": "stream",
     "text": [
      "Bem vindo, Juca Sauro\n"
     ]
    }
   ],
   "source": [
    "nome = \"Juca\"\n",
    "sobrenome = \"Sauro\"\n",
    "print(\"Bem vindo, \"+nome+\" \"+sobrenome)"
   ]
  },
  {
   "cell_type": "code",
   "execution_count": 5,
   "id": "b834d04f-3915-44ea-8527-06fa0a3812ef",
   "metadata": {},
   "outputs": [
    {
     "data": {
      "text/plain": [
       "'Juca'"
      ]
     },
     "execution_count": 5,
     "metadata": {},
     "output_type": "execute_result"
    }
   ],
   "source": [
    "nome"
   ]
  },
  {
   "cell_type": "code",
   "execution_count": 6,
   "id": "66d930fb-0157-418c-a8e1-bc6c95f58569",
   "metadata": {},
   "outputs": [
    {
     "data": {
      "text/plain": [
       "'Sauro'"
      ]
     },
     "execution_count": 6,
     "metadata": {},
     "output_type": "execute_result"
    }
   ],
   "source": [
    "sobrenome"
   ]
  },
  {
   "cell_type": "code",
   "execution_count": null,
   "id": "a7c38f15-f29b-4fcd-9133-abed81d0ed25",
   "metadata": {},
   "outputs": [],
   "source": []
  }
 ],
 "metadata": {
  "kernelspec": {
   "display_name": "Python 3 (ipykernel)",
   "language": "python",
   "name": "python3"
  },
  "language_info": {
   "codemirror_mode": {
    "name": "ipython",
    "version": 3
   },
   "file_extension": ".py",
   "mimetype": "text/x-python",
   "name": "python",
   "nbconvert_exporter": "python",
   "pygments_lexer": "ipython3",
   "version": "3.12.4"
  }
 },
 "nbformat": 4,
 "nbformat_minor": 5
}
